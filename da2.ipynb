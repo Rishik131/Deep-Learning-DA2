{
 "cells": [
  {
   "cell_type": "code",
   "execution_count": 2,
   "metadata": {},
   "outputs": [],
   "source": [
    "import tensorflow as tf\n",
    "from tensorflow import keras\n",
    "from tensorflow.keras import layers\n",
    "from tensorflow.keras.applications.resnet50 import preprocess_input\n",
    "import numpy as np\n",
    "import cv2"
   ]
  },
  {
   "cell_type": "code",
   "execution_count": 3,
   "metadata": {},
   "outputs": [
    {
     "name": "stdout",
     "output_type": "stream",
     "text": [
      "Downloading data from https://storage.googleapis.com/tensorflow/tf-keras-datasets/train-labels-idx1-ubyte.gz\n",
      "29515/29515 [==============================] - 0s 2us/step\n",
      "Downloading data from https://storage.googleapis.com/tensorflow/tf-keras-datasets/train-images-idx3-ubyte.gz\n",
      "26421880/26421880 [==============================] - 62s 2us/step\n",
      "Downloading data from https://storage.googleapis.com/tensorflow/tf-keras-datasets/t10k-labels-idx1-ubyte.gz\n",
      "5148/5148 [==============================] - 0s 0s/step\n",
      "Downloading data from https://storage.googleapis.com/tensorflow/tf-keras-datasets/t10k-images-idx3-ubyte.gz\n",
      "4422102/4422102 [==============================] - 10s 2us/step\n"
     ]
    }
   ],
   "source": [
    "(x_train, y_train), (x_test, y_test) = keras.datasets.fashion_mnist.load_data()"
   ]
  },
  {
   "cell_type": "code",
   "execution_count": 4,
   "metadata": {},
   "outputs": [],
   "source": [
    "def LeNet5(input_shape=(28, 28, 1), num_classes=10):\n",
    "    model = tf.keras.Sequential([\n",
    "        layers.Conv2D(6, kernel_size=(5, 5), activation='relu', input_shape=input_shape),\n",
    "        layers.MaxPooling2D(pool_size=(2, 2)),\n",
    "        layers.Conv2D(16, kernel_size=(5, 5), activation='relu'),\n",
    "        layers.MaxPooling2D(pool_size=(2, 2)),\n",
    "        layers.Flatten(),\n",
    "        layers.Dense(120, activation='relu'),\n",
    "        layers.Dense(84, activation='relu'),\n",
    "        layers.Dense(num_classes, activation='softmax')\n",
    "    ])\n",
    "    return model"
   ]
  },
  {
   "cell_type": "code",
   "execution_count": 5,
   "metadata": {},
   "outputs": [],
   "source": [
    "def rcnn_model(input_shape=(28, 28, 1)):\n",
    "    inputs = layers.Input(input_shape)\n",
    "    x = layers.Conv2D(64, kernel_size=(3, 3), activation='relu')(inputs)\n",
    "    x = layers.MaxPooling2D(pool_size=(2, 2))(x)\n",
    "    x = layers.Conv2D(128, kernel_size=(3, 3), activation='relu')(x)\n",
    "    x = layers.MaxPooling2D(pool_size=(2, 2))(x)\n",
    "    x = layers.Conv2D(256, kernel_size=(3, 3), activation='relu')(x)\n",
    "    x = layers.MaxPooling2D(pool_size=(2, 2))(x)\n",
    "    x = layers.Flatten()(x)\n",
    "    x = layers.Dense(1024, activation='relu')(x)\n",
    "    x = layers.Dropout(0.5)(x)\n",
    "    x = layers.Dense(512, activation='relu')(x)\n",
    "    x = layers.Dropout(0.5)(x)\n",
    "    scores = layers.Dense(1, activation='sigmoid')(x)\n",
    "    bbox = layers.Dense(4)(x)\n",
    "    class_probs = layers.Dense(10, activation='softmax')(x)\n",
    "    model = keras.Model(inputs=inputs, outputs=[scores, bbox, class_probs])\n",
    "    return model"
   ]
  },
  {
   "cell_type": "code",
   "execution_count": 6,
   "metadata": {},
   "outputs": [],
   "source": [
    "rcnn = rcnn_model(input_shape=(224, 224, 1))\n",
    "lenet5 = LeNet5(input_shape=(28, 28, 1))"
   ]
  },
  {
   "cell_type": "code",
   "execution_count": 7,
   "metadata": {},
   "outputs": [],
   "source": [
    "rcnn.compile(loss=['binary_crossentropy', 'mse', 'categorical_crossentropy'], optimizer='adam', metrics=['accuracy'])\n",
    "lenet5.compile(loss='categorical_crossentropy', optimizer='adam', metrics=['accuracy'])"
   ]
  },
  {
   "cell_type": "code",
   "execution_count": 8,
   "metadata": {},
   "outputs": [],
   "source": [
    "x_train = np.resize(x_train, (60000, 224, 224, 1))\n",
    "x_test = np.resize(x_test, (10000, 224, 224, 1))\n",
    "x_train = x_train.astype('float32') / 255.0\n",
    "x_test = x_test.astype('float32') / 255.0\n",
    "y_train = keras.utils.to_categorical(y_train, 10)\n",
    "y_test = keras.utils.to_categorical(y_test, 10)"
   ]
  },
  {
   "cell_type": "code",
   "execution_count": 10,
   "metadata": {},
   "outputs": [
    {
     "name": "stdout",
     "output_type": "stream",
     "text": [
      "1875/1875 [==============================] - 6150s 3s/step - loss: 2.3207 - dense_2_loss: 0.0054 - dense_3_loss: 0.0056 - dense_4_loss: 2.3097 - dense_2_accuracy: 1.0000 - dense_3_accuracy: 0.2751 - dense_4_accuracy: 0.1001 - val_loss: 2.3043 - val_dense_2_loss: 7.6786e-04 - val_dense_3_loss: 4.2877e-06 - val_dense_4_loss: 2.3036 - val_dense_2_accuracy: 1.0000 - val_dense_3_accuracy: 1.0000 - val_dense_4_accuracy: 0.1000\n"
     ]
    },
    {
     "data": {
      "text/plain": [
       "<keras.callbacks.History at 0x1de4c67c5e0>"
      ]
     },
     "execution_count": 10,
     "metadata": {},
     "output_type": "execute_result"
    }
   ],
   "source": [
    "rcnn.fit(x_train, [np.ones(60000), np.zeros((60000, 4)), y_train], batch_size=32, epochs=1, validation_data=(x_test, [np.ones(10000), np.zeros((10000, 4)), y_test]))"
   ]
  },
  {
   "cell_type": "code",
   "execution_count": 19,
   "metadata": {},
   "outputs": [
    {
     "name": "stdout",
     "output_type": "stream",
     "text": [
      "[[[0.        ]\n",
      "  [0.        ]\n",
      "  [0.        ]\n",
      "  ...\n",
      "  [0.14509805]\n",
      "  [0.        ]\n",
      "  [0.        ]]\n",
      "\n",
      " [[0.        ]\n",
      "  [0.        ]\n",
      "  [0.        ]\n",
      "  ...\n",
      "  [0.6117647 ]\n",
      "  [0.69803923]\n",
      "  [0.        ]]\n",
      "\n",
      " [[0.01176471]\n",
      "  [0.        ]\n",
      "  [0.        ]\n",
      "  ...\n",
      "  [0.        ]\n",
      "  [0.        ]\n",
      "  [0.        ]]\n",
      "\n",
      " ...\n",
      "\n",
      " [[0.        ]\n",
      "  [0.        ]\n",
      "  [0.        ]\n",
      "  ...\n",
      "  [0.49803922]\n",
      "  [0.23137255]\n",
      "  [0.        ]]\n",
      "\n",
      " [[0.        ]\n",
      "  [0.        ]\n",
      "  [0.        ]\n",
      "  ...\n",
      "  [0.08235294]\n",
      "  [0.07058824]\n",
      "  [0.14509805]]\n",
      "\n",
      " [[0.        ]\n",
      "  [0.03137255]\n",
      "  [0.01960784]\n",
      "  ...\n",
      "  [0.        ]\n",
      "  [0.        ]\n",
      "  [0.        ]]]\n"
     ]
    }
   ],
   "source": [
    "x_test1 = x_test[:100]\n",
    "y_test1 = y_test[:100]\n",
    "print(x_test1[0])"
   ]
  },
  {
   "cell_type": "code",
   "execution_count": 20,
   "metadata": {},
   "outputs": [
    {
     "name": "stdout",
     "output_type": "stream",
     "text": [
      "4/4 [==============================] - 2s 465ms/step\n"
     ]
    }
   ],
   "source": [
    "class_probs = rcnn.predict(x_test1)"
   ]
  },
  {
   "cell_type": "code",
   "execution_count": 22,
   "metadata": {},
   "outputs": [
    {
     "name": "stdout",
     "output_type": "stream",
     "text": [
      "4/4 [==============================] - 2s 454ms/step\n"
     ]
    }
   ],
   "source": [
    "rcnn_output = rcnn.predict(x_test[:100])\n",
    "bbox_preds, class_probs = rcnn_output[0], rcnn_output[1]"
   ]
  },
  {
   "cell_type": "code",
   "execution_count": 34,
   "metadata": {},
   "outputs": [],
   "source": [
    "def generate_bboxes(bbox_preds):\n",
    "    bboxes = []\n",
    "    for i in range(len(bbox_preds)):\n",
    "        x1 = int(bbox_preds[i][0] * 28)\n",
    "        y1 = int(bbox_preds[i][0][0] * 28)\n",
    "        x2 = int(bbox_preds[i][2] * 28)\n",
    "        y2 = int(bbox_preds[i][3] * 28)\n",
    "        bboxes.append((x1, y1, x2, y2))\n",
    "    return bboxes"
   ]
  },
  {
   "cell_type": "code",
   "execution_count": 29,
   "metadata": {},
   "outputs": [],
   "source": [
    "def classify_clothes(x_test, bboxes, class_probs, lenet5):\n",
    "    pred_classes = []\n",
    "    for i in range(len(bboxes)):\n",
    "        x1, y1, x2, y2 = bboxes[i]\n",
    "        img = cv2.resize(x_test[i, y1:y2, x1:x2, :], (28, 28), interpolation=cv2.INTER_AREA)\n",
    "        img = img.reshape((1, 28, 28, 1))\n",
    "        pred_class = lenet5.predict(img)\n",
    "        pred_classes.append(pred_class)\n",
    "    return pred_classes"
   ]
  },
  {
   "cell_type": "code",
   "execution_count": 33,
   "metadata": {},
   "outputs": [
    {
     "ename": "NameError",
     "evalue": "name 'pred_classes' is not defined",
     "output_type": "error",
     "traceback": [
      "\u001b[1;31m---------------------------------------------------------------------------\u001b[0m",
      "\u001b[1;31mNameError\u001b[0m                                 Traceback (most recent call last)",
      "Cell \u001b[1;32mIn[33], line 2\u001b[0m\n\u001b[0;32m      1\u001b[0m total_correct \u001b[39m=\u001b[39m \u001b[39m0\u001b[39m\n\u001b[1;32m----> 2\u001b[0m \u001b[39mfor\u001b[39;00m i \u001b[39min\u001b[39;00m \u001b[39mrange\u001b[39m(\u001b[39mlen\u001b[39m(pred_classes)):\n\u001b[0;32m      3\u001b[0m     \u001b[39mif\u001b[39;00m np\u001b[39m.\u001b[39margmax(pred_classes[i]) \u001b[39m==\u001b[39m np\u001b[39m.\u001b[39margmax(y_test[i]):\n\u001b[0;32m      4\u001b[0m         total_correct \u001b[39m+\u001b[39m\u001b[39m=\u001b[39m \u001b[39m1\u001b[39m\n",
      "\u001b[1;31mNameError\u001b[0m: name 'pred_classes' is not defined"
     ]
    }
   ],
   "source": [
    "total_correct = 0\n",
    "for i in range(len(pred_classes)):\n",
    "    if np.argmax(pred_classes[i]) == np.argmax(y_test[i]):\n",
    "        total_correct += 1\n",
    "accuracy = total_correct / len(pred_classes)\n",
    "print('Overall accuracy:', accuracy)"
   ]
  },
  {
   "cell_type": "code",
   "execution_count": 35,
   "metadata": {},
   "outputs": [
    {
     "ename": "IndexError",
     "evalue": "invalid index to scalar variable.",
     "output_type": "error",
     "traceback": [
      "\u001b[1;31m---------------------------------------------------------------------------\u001b[0m",
      "\u001b[1;31mIndexError\u001b[0m                                Traceback (most recent call last)",
      "Cell \u001b[1;32mIn[35], line 1\u001b[0m\n\u001b[1;32m----> 1\u001b[0m bboxes \u001b[39m=\u001b[39m generate_bboxes(bbox_preds)\n\u001b[0;32m      2\u001b[0m pred_classes \u001b[39m=\u001b[39m classify_clothes(x_test1, bboxes, class_probs, lenet5)\n",
      "Cell \u001b[1;32mIn[34], line 5\u001b[0m, in \u001b[0;36mgenerate_bboxes\u001b[1;34m(bbox_preds)\u001b[0m\n\u001b[0;32m      3\u001b[0m \u001b[39mfor\u001b[39;00m i \u001b[39min\u001b[39;00m \u001b[39mrange\u001b[39m(\u001b[39mlen\u001b[39m(bbox_preds)):\n\u001b[0;32m      4\u001b[0m     x1 \u001b[39m=\u001b[39m \u001b[39mint\u001b[39m(bbox_preds[i][\u001b[39m0\u001b[39m] \u001b[39m*\u001b[39m \u001b[39m28\u001b[39m)\n\u001b[1;32m----> 5\u001b[0m     y1 \u001b[39m=\u001b[39m \u001b[39mint\u001b[39m(bbox_preds[i][\u001b[39m0\u001b[39;49m][\u001b[39m0\u001b[39;49m] \u001b[39m*\u001b[39m \u001b[39m28\u001b[39m)\n\u001b[0;32m      6\u001b[0m     x2 \u001b[39m=\u001b[39m \u001b[39mint\u001b[39m(bbox_preds[i][\u001b[39m2\u001b[39m] \u001b[39m*\u001b[39m \u001b[39m28\u001b[39m)\n\u001b[0;32m      7\u001b[0m     y2 \u001b[39m=\u001b[39m \u001b[39mint\u001b[39m(bbox_preds[i][\u001b[39m3\u001b[39m] \u001b[39m*\u001b[39m \u001b[39m28\u001b[39m)\n",
      "\u001b[1;31mIndexError\u001b[0m: invalid index to scalar variable."
     ]
    }
   ],
   "source": [
    "bboxes = generate_bboxes(bbox_preds)\n",
    "pred_classes = classify_clothes(x_test1, bboxes, class_probs, lenet5)"
   ]
  }
 ],
 "metadata": {
  "kernelspec": {
   "display_name": "venv",
   "language": "python",
   "name": "python3"
  },
  "language_info": {
   "codemirror_mode": {
    "name": "ipython",
    "version": 3
   },
   "file_extension": ".py",
   "mimetype": "text/x-python",
   "name": "python",
   "nbconvert_exporter": "python",
   "pygments_lexer": "ipython3",
   "version": "3.10.8"
  },
  "orig_nbformat": 4
 },
 "nbformat": 4,
 "nbformat_minor": 2
}
